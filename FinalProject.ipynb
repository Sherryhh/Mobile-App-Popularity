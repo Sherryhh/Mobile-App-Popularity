{
 "cells": [
  {
   "cell_type": "markdown",
   "metadata": {},
   "source": [
    "# COGS 108 - Final Project "
   ]
  },
  {
   "cell_type": "markdown",
   "metadata": {},
   "source": [
    "# Overview"
   ]
  },
  {
   "cell_type": "markdown",
   "metadata": {},
   "source": [
    "In this project, we want to find out what factors would make a game popular other than the actual content quality of the game using a dataset that contains information regarding games in AppStore. We standardize our dataset so that it would be quantifiable, and define popularity based on our dataset. We use the correlation matrix and variance inflation factors to find which features affect the popularity of a game, and use regression models for predicate modeling."
   ]
  },
  {
   "cell_type": "markdown",
   "metadata": {},
   "source": [
    "# Names\n",
    "\n",
    "- Boxiao Yan\n",
    "- Xurui Huang\n",
    "- Chuhua Sun\n",
    "- Frederick Peter Buddemeyer"
   ]
  },
  {
   "cell_type": "markdown",
   "metadata": {},
   "source": [
    "# Group Members IDs\n",
    "\n",
    "- A14885786\n",
    "- A15128515\n",
    "- A13997266\n",
    "- A16107929"
   ]
  },
  {
   "cell_type": "markdown",
   "metadata": {},
   "source": [
    "# Research Question"
   ]
  },
  {
   "cell_type": "markdown",
   "metadata": {},
   "source": [
    "We want to predict which features other than a game's content itself make a game popular. Therefore, We intent to find the correlation between the popularity of games and multiple features of a game, such as price, average user rating, size and more. "
   ]
  },
  {
   "cell_type": "markdown",
   "metadata": {},
   "source": [
    "## Background and Prior Work"
   ]
  },
  {
   "cell_type": "markdown",
   "metadata": {},
   "source": [
    "There are more and more mobile gaming apps on the AppStore nowdays. However, what factors would make a game popular other than the content quality of the game? In other words, what features of a game would make users click on it without knowing the quality of the game. If we would find out which features would make a game more popular, developers would make their applications more successful. Even though content quality is probably the most important factor for any application, others factors may apply to customers as well. From the developers' perspective, they need to know their audience in order to hook others to use their product. \n",
    "\n",
    "Intuitively, we would think the size of an app and the price of it would be major factors that affect popularity of any application, but marketing also affetcs the popularity of an application as well. \n",
    "Even though there are many guides on improving popularity of a mobile game, there are little information on features of a mobile game that may boost its popularity.\n",
    "\n",
    "References (include links):\n",
    "- 1)https://www.newgenapps.com/blog/steps-successful-mobile-game-development\n",
    "- 2)https://medium.com/@HichamMoutahir/the-ultimate-guide-for-creating-a-successful-mobile-app-in-2018-74f7311a85f1"
   ]
  },
  {
   "cell_type": "markdown",
   "metadata": {},
   "source": [
    "# Hypothesis\n"
   ]
  },
  {
   "cell_type": "markdown",
   "metadata": {},
   "source": [
    "We hypothesize that rating, in-app purchases, age restriction, size of the app, and number of languages a game is available in will be crucial factors that affects popularity. It is rational to think that smaller size of an application, lower age restriction, and lower in-app purchases will lead to more downloads. It is worth-noting that average rating and available languages of a game are positivily related with popularity: higher average rating and more number of languages the games are available in will leads to more downloads; and higher popularity will also increase the rating and avaiable languages."
   ]
  },
  {
   "cell_type": "markdown",
   "metadata": {},
   "source": [
    "# Dataset(s)"
   ]
  },
  {
   "cell_type": "markdown",
   "metadata": {},
   "source": [
    "- Dataset Name: appstore_games.csv\n",
    "- Link to the dataset: https://www.kaggle.com/tristan581/17k-apple-app-store-strategy-games\n",
    "- Number of observations:17007\n",
    "\n",
    "This is the data of 17007 games on the Apple AppStore, and it was collected using the iTunes API and the App Store sitemap in Auguest 2019. For each game, this dataset has features information on its URL, ID, Name, Subtitle, Icon URL, Average User Rating and more."
   ]
  },
  {
   "cell_type": "markdown",
   "metadata": {},
   "source": [
    "# Setup"
   ]
  },
  {
   "cell_type": "code",
   "execution_count": 48,
   "metadata": {},
   "outputs": [],
   "source": [
    "import string\n",
    "import numpy as np\n",
    "import pandas as pd\n",
    "import matplotlib.pyplot as plt\n",
    "import seaborn as sns\n",
    "\n",
    "import patsy\n",
    "import statsmodels.api as sm\n",
    "from statsmodels.imputation import mice\n",
    "import statsmodels.stats.outliers_influence as sm_influence\n",
    "import scipy.stats as stats\n",
    "from scipy.stats import ttest_ind, chisquare, normaltest\n",
    "from sklearn.linear_model import LogisticRegression\n",
    "from sklearn.metrics import mean_squared_error\n",
    "from sklearn.metrics import mean_absolute_error"
   ]
  },
  {
   "cell_type": "code",
   "execution_count": 49,
   "metadata": {},
   "outputs": [],
   "source": [
    "# Read data file of all games in appstore\n",
    "games = pd.read_csv(\"./appstore_games.csv\")"
   ]
  },
  {
   "cell_type": "code",
   "execution_count": 50,
   "metadata": {},
   "outputs": [
    {
     "data": {
      "text/plain": [
       "Index(['URL', 'ID', 'Name', 'Subtitle', 'Icon URL', 'Average User Rating',\n",
       "       'User Rating Count', 'Price', 'In-app Purchases', 'Description',\n",
       "       'Developer', 'Age Rating', 'Languages', 'Size', 'Primary Genre',\n",
       "       'Genres', 'Original Release Date', 'Current Version Release Date'],\n",
       "      dtype='object')"
      ]
     },
     "execution_count": 50,
     "metadata": {},
     "output_type": "execute_result"
    }
   ],
   "source": [
    "# Display all the features of the data file\n",
    "games.columns"
   ]
  },
  {
   "cell_type": "code",
   "execution_count": 51,
   "metadata": {},
   "outputs": [
    {
     "data": {
      "text/plain": [
       "(17007, 18)"
      ]
     },
     "execution_count": 51,
     "metadata": {},
     "output_type": "execute_result"
    }
   ],
   "source": [
    "# Raw data shape\n",
    "games.shape"
   ]
  },
  {
   "cell_type": "markdown",
   "metadata": {},
   "source": [
    "# Data Cleaning"
   ]
  },
  {
   "cell_type": "markdown",
   "metadata": {},
   "source": [
    "### Extract useful features "
   ]
  },
  {
   "cell_type": "markdown",
   "metadata": {},
   "source": [
    "Not all the features in the dataset are useful to our analysis. Features like 'URL', 'Subtitle', 'Icon URL', etc, do not provide useful information relating to the popularity of games, so we drop them from the dataset."
   ]
  },
  {
   "cell_type": "code",
   "execution_count": 52,
   "metadata": {},
   "outputs": [],
   "source": [
    "games = games[['ID', 'Name', 'Average User Rating', 'User Rating Count', 'Price', 'In-app Purchases', 'Age Rating', 'Languages', 'Size', 'Genres']]\n",
    "games.columns = ['id', 'name', 'rating', 'ratingCount', 'price', 'inAppPurchases', 'age', 'languages', 'size', 'genres']"
   ]
  },
  {
   "cell_type": "code",
   "execution_count": 53,
   "metadata": {},
   "outputs": [
    {
     "data": {
      "text/plain": [
       "Index(['id', 'name', 'rating', 'ratingCount', 'price', 'inAppPurchases', 'age',\n",
       "       'languages', 'size', 'genres'],\n",
       "      dtype='object')"
      ]
     },
     "execution_count": 53,
     "metadata": {},
     "output_type": "execute_result"
    }
   ],
   "source": [
    "games.columns"
   ]
  },
  {
   "cell_type": "code",
   "execution_count": 54,
   "metadata": {},
   "outputs": [
    {
     "data": {
      "text/plain": [
       "(17007, 10)"
      ]
     },
     "execution_count": 54,
     "metadata": {},
     "output_type": "execute_result"
    }
   ],
   "source": [
    "#size of dataset\n",
    "games.shape"
   ]
  },
  {
   "cell_type": "markdown",
   "metadata": {},
   "source": [
    "### Drop all the games without 'Price'"
   ]
  },
  {
   "cell_type": "markdown",
   "metadata": {},
   "source": [
    "Games with unknown price miss the key information that we will use to separate our dataset; if we replace price of null value with zero, it would further mess up our dataset. Thus, we drop all the data with unknown price from the dataset first. "
   ]
  },
  {
   "cell_type": "code",
   "execution_count": 55,
   "metadata": {},
   "outputs": [],
   "source": [
    "games.dropna(subset=['price'], inplace=True)"
   ]
  },
  {
   "cell_type": "code",
   "execution_count": 56,
   "metadata": {},
   "outputs": [],
   "source": [
    "n_nan_price = games['price'].isnull().sum()\n",
    "assert n_nan_price == 0"
   ]
  },
  {
   "cell_type": "code",
   "execution_count": 57,
   "metadata": {},
   "outputs": [
    {
     "data": {
      "text/plain": [
       "(16983, 10)"
      ]
     },
     "execution_count": 57,
     "metadata": {},
     "output_type": "execute_result"
    }
   ],
   "source": [
    "#size of dataset\n",
    "games.shape"
   ]
  },
  {
   "cell_type": "markdown",
   "metadata": {},
   "source": [
    "### Replace all the NaN value to 0 for 'rating' or 'ratingCount'"
   ]
  },
  {
   "cell_type": "markdown",
   "metadata": {},
   "source": [
    "Many of the games do not have any 'rating' or 'ratingCount' value. Even though those factors are important to our analysis, they do not have the same strong influence as price does on popularity. It is possible that the actual values of those games with 'rating' or 'ratingCount' with null values are too trival to be counted. Therefore, we assign 0 value to the empty places to indeicate that those games are not popular, as no one gives review or rate. \n",
    "\n",
    "For 'inAppPurchases', the NaN value means there is no in-app purchases for the game, so we assign 0 to indicate no in-app purchases and 1 to indicate there is in-app purchase if the value does not equal to zero. "
   ]
  },
  {
   "cell_type": "code",
   "execution_count": 58,
   "metadata": {},
   "outputs": [],
   "source": [
    "games['rating'].replace(np.nan, 0, inplace=True)\n",
    "games['ratingCount'].replace(np.nan, 0, inplace=True)\n",
    "games['inAppPurchases'].replace(np.nan, 0, inplace=True)\n",
    "games['inAppPurchases'] = games['inAppPurchases'].apply(lambda x: 1 if x != 0 else 0)"
   ]
  },
  {
   "cell_type": "code",
   "execution_count": 59,
   "metadata": {},
   "outputs": [],
   "source": [
    "n_nan_rating = games['rating'].isnull().sum()\n",
    "n_nan_reviews = games['ratingCount'].isnull().sum()\n",
    "assert n_nan_rating == 0\n",
    "assert n_nan_reviews == 0"
   ]
  },
  {
   "cell_type": "code",
   "execution_count": 60,
   "metadata": {},
   "outputs": [
    {
     "data": {
      "text/plain": [
       "(16983, 10)"
      ]
     },
     "execution_count": 60,
     "metadata": {},
     "output_type": "execute_result"
    }
   ],
   "source": [
    "#size of dataset\n",
    "games.shape"
   ]
  },
  {
   "cell_type": "markdown",
   "metadata": {},
   "source": [
    "### Standardize 'Age Rating' column into numerical value by the minimum age"
   ]
  },
  {
   "cell_type": "markdown",
   "metadata": {},
   "source": [
    "Becuse the original value for 'age' is not numerical, we modify this feature to numerical values. Since age restriction may affect the downloads of games, we preserve the minimum age of the player."
   ]
  },
  {
   "cell_type": "code",
   "execution_count": 61,
   "metadata": {},
   "outputs": [],
   "source": [
    "games['age'] = games['age'].apply(lambda x: int(x[:x.find('+')]))"
   ]
  },
  {
   "cell_type": "markdown",
   "metadata": {},
   "source": [
    "### Standardize 'Languages' column by the number of languages"
   ]
  },
  {
   "cell_type": "markdown",
   "metadata": {},
   "source": [
    "Since our dataset gives a list of languages a game has, we modify this feature by changing the list to the length of the list. It is rational to think if a game has more languages that is available in, it would be more popular. "
   ]
  },
  {
   "cell_type": "code",
   "execution_count": 62,
   "metadata": {},
   "outputs": [],
   "source": [
    "# Get all the languages and assign their id\n",
    "punctuation = set(string.punctuation)\n",
    "games_language = [set((''.join([c for c in l if not c in punctuation])).split()) for l in games['languages'] if type(l) != float]\n",
    "languages = list(set().union(*games_language))\n",
    "languages.sort()\n",
    "languages_id = dict(zip(languages, range(len(languages))))"
   ]
  },
  {
   "cell_type": "code",
   "execution_count": 63,
   "metadata": {},
   "outputs": [],
   "source": [
    "games['numLanguages'] = games['languages'].apply(lambda x: 1 if type(x) == float else len(x.split()))\n",
    "games.drop(columns=['languages'], inplace=True)"
   ]
  },
  {
   "cell_type": "markdown",
   "metadata": {},
   "source": [
    "### Standardize 'Genres' column by the number of genres"
   ]
  },
  {
   "cell_type": "markdown",
   "metadata": {},
   "source": [
    "Since our dataset gives a list of genres a game has, we modify this feature by changing the list to the length of the list. It is rational to think if a game has more genres that is available in, it would be more popular."
   ]
  },
  {
   "cell_type": "code",
   "execution_count": 64,
   "metadata": {},
   "outputs": [],
   "source": [
    "def standardize_genres(genres):\n",
    "    genres = genres.replace('Games, ', '')\n",
    "    genres = genres.replace('Games', '')\n",
    "    return genres"
   ]
  },
  {
   "cell_type": "code",
   "execution_count": 65,
   "metadata": {},
   "outputs": [],
   "source": [
    "games['genres'] = games['genres'].apply(standardize_genres)\n",
    "games['numGeners'] = [len(g.split()) for g in games['genres']]"
   ]
  },
  {
   "cell_type": "code",
   "execution_count": 66,
   "metadata": {},
   "outputs": [],
   "source": [
    "# Get all the genres and assign their id\n",
    "games_genres = [set(g.split(', ')) for g in games['genres']]\n",
    "genres = list(set().union(*games_genres))\n",
    "genres.sort()\n",
    "genres = genres[1:]\n",
    "genres_id = dict(zip(genres, range(len(genres))))"
   ]
  },
  {
   "cell_type": "code",
   "execution_count": 67,
   "metadata": {},
   "outputs": [],
   "source": [
    "num_data = games.shape[0]\n",
    "assert num_data >= 1000"
   ]
  },
  {
   "cell_type": "code",
   "execution_count": 68,
   "metadata": {},
   "outputs": [
    {
     "data": {
      "text/plain": [
       "(16983, 11)"
      ]
     },
     "execution_count": 68,
     "metadata": {},
     "output_type": "execute_result"
    }
   ],
   "source": [
    "games['size'] = games['size'] / 100000\n",
    "games.shape"
   ]
  },
  {
   "cell_type": "markdown",
   "metadata": {},
   "source": [
    "# Data Analysis & Results"
   ]
  },
  {
   "cell_type": "markdown",
   "metadata": {},
   "source": [
    "### Define popularity and popular games"
   ]
  },
  {
   "cell_type": "markdown",
   "metadata": {},
   "source": [
    "Based on the cleaned data, we want to divide the whole dataset into two parts: popular game and unpopular games.\n",
    "\n",
    "Unfortunately, AppStore does not release information on download counts for each application, and it also has a hidden algorithm that determines which application be put on popular chart. Since we do not have those information, we have to define popularity first.\n",
    "\n",
    "We define the game popularity based on the 'ratingCount' value: more rating count means more popular, and we define the top 5% games as popular games. We assign 1 to popular games and 0 to unpopular games."
   ]
  },
  {
   "cell_type": "code",
   "execution_count": 69,
   "metadata": {},
   "outputs": [
    {
     "name": "stdout",
     "output_type": "stream",
     "text": [
      "The popularity dividing line is 'User Rating Count' of 1943.\n"
     ]
    }
   ],
   "source": [
    "# Sort the 'User Rating Count' value and find the dividing line of popularity\n",
    "popularity = list(games['ratingCount'])\n",
    "popularity.sort(reverse=True)\n",
    "pop_rc_min = popularity[int(len(popularity) * 0.05)]\n",
    "print(\"The popularity dividing line is 'User Rating Count' of %i.\" % (int(pop_rc_min)))"
   ]
  },
  {
   "cell_type": "markdown",
   "metadata": {},
   "source": [
    "Since the range of rating count is quite big, we standarize it using log so that it would be more reasonable values."
   ]
  },
  {
   "cell_type": "code",
   "execution_count": 70,
   "metadata": {},
   "outputs": [
    {
     "name": "stderr",
     "output_type": "stream",
     "text": [
      "/Users/sherryhuang/opt/anaconda3/lib/python3.7/site-packages/pandas/core/series.py:853: RuntimeWarning: invalid value encountered in log\n",
      "  result = getattr(ufunc, method)(*inputs, **kwargs)\n"
     ]
    }
   ],
   "source": [
    "#games['ratingCount'] = games['ratingCount'] + 1\n",
    "# games = games[games['ratingCount'] > 0]\n",
    "games['pop'] = (games['ratingCount'] - games['ratingCount'].mean())/games['ratingCount'].std()\n",
    "games['pop'] = np.log(games['pop'])\n",
    "games.dropna(inplace=True)"
   ]
  },
  {
   "cell_type": "code",
   "execution_count": 71,
   "metadata": {
    "scrolled": true
   },
   "outputs": [
    {
     "data": {
      "text/html": [
       "<div>\n",
       "<style scoped>\n",
       "    .dataframe tbody tr th:only-of-type {\n",
       "        vertical-align: middle;\n",
       "    }\n",
       "\n",
       "    .dataframe tbody tr th {\n",
       "        vertical-align: top;\n",
       "    }\n",
       "\n",
       "    .dataframe thead th {\n",
       "        text-align: right;\n",
       "    }\n",
       "</style>\n",
       "<table border=\"1\" class=\"dataframe\">\n",
       "  <thead>\n",
       "    <tr style=\"text-align: right;\">\n",
       "      <th></th>\n",
       "      <th>id</th>\n",
       "      <th>name</th>\n",
       "      <th>rating</th>\n",
       "      <th>ratingCount</th>\n",
       "      <th>price</th>\n",
       "      <th>inAppPurchases</th>\n",
       "      <th>age</th>\n",
       "      <th>size</th>\n",
       "      <th>genres</th>\n",
       "      <th>numLanguages</th>\n",
       "      <th>numGeners</th>\n",
       "      <th>pop</th>\n",
       "    </tr>\n",
       "  </thead>\n",
       "  <tbody>\n",
       "    <tr>\n",
       "      <td>0</td>\n",
       "      <td>284921427</td>\n",
       "      <td>Sudoku</td>\n",
       "      <td>4.0</td>\n",
       "      <td>3553.0</td>\n",
       "      <td>2.99</td>\n",
       "      <td>0</td>\n",
       "      <td>4</td>\n",
       "      <td>158.53568</td>\n",
       "      <td>Strategy, Puzzle</td>\n",
       "      <td>17</td>\n",
       "      <td>2</td>\n",
       "      <td>-2.609569</td>\n",
       "    </tr>\n",
       "    <tr>\n",
       "      <td>2</td>\n",
       "      <td>284946595</td>\n",
       "      <td>Morocco</td>\n",
       "      <td>3.0</td>\n",
       "      <td>8376.0</td>\n",
       "      <td>0.00</td>\n",
       "      <td>0</td>\n",
       "      <td>4</td>\n",
       "      <td>6.74816</td>\n",
       "      <td>Board, Strategy</td>\n",
       "      <td>1</td>\n",
       "      <td>2</td>\n",
       "      <td>-1.410283</td>\n",
       "    </tr>\n",
       "    <tr>\n",
       "      <td>3</td>\n",
       "      <td>285755462</td>\n",
       "      <td>Sudoku (Free)</td>\n",
       "      <td>3.5</td>\n",
       "      <td>190394.0</td>\n",
       "      <td>0.00</td>\n",
       "      <td>0</td>\n",
       "      <td>4</td>\n",
       "      <td>215.52128</td>\n",
       "      <td>Strategy, Puzzle</td>\n",
       "      <td>17</td>\n",
       "      <td>2</td>\n",
       "      <td>1.898964</td>\n",
       "    </tr>\n",
       "    <tr>\n",
       "      <td>11</td>\n",
       "      <td>288096268</td>\n",
       "      <td>Lumen Lite</td>\n",
       "      <td>3.5</td>\n",
       "      <td>5072.0</td>\n",
       "      <td>0.00</td>\n",
       "      <td>0</td>\n",
       "      <td>4</td>\n",
       "      <td>70.86403</td>\n",
       "      <td>Puzzle, Strategy</td>\n",
       "      <td>1</td>\n",
       "      <td>2</td>\n",
       "      <td>-2.061464</td>\n",
       "    </tr>\n",
       "    <tr>\n",
       "      <td>14</td>\n",
       "      <td>288918962</td>\n",
       "      <td>Tetravex Lite</td>\n",
       "      <td>2.5</td>\n",
       "      <td>2358.0</td>\n",
       "      <td>0.00</td>\n",
       "      <td>0</td>\n",
       "      <td>4</td>\n",
       "      <td>7.31525</td>\n",
       "      <td>Puzzle, Strategy, Entertainment</td>\n",
       "      <td>1</td>\n",
       "      <td>3</td>\n",
       "      <td>-3.463521</td>\n",
       "    </tr>\n",
       "    <tr>\n",
       "      <td>...</td>\n",
       "      <td>...</td>\n",
       "      <td>...</td>\n",
       "      <td>...</td>\n",
       "      <td>...</td>\n",
       "      <td>...</td>\n",
       "      <td>...</td>\n",
       "      <td>...</td>\n",
       "      <td>...</td>\n",
       "      <td>...</td>\n",
       "      <td>...</td>\n",
       "      <td>...</td>\n",
       "      <td>...</td>\n",
       "    </tr>\n",
       "    <tr>\n",
       "      <td>16434</td>\n",
       "      <td>1459059300</td>\n",
       "      <td>Idle Roller Coaster</td>\n",
       "      <td>5.0</td>\n",
       "      <td>88855.0</td>\n",
       "      <td>0.00</td>\n",
       "      <td>1</td>\n",
       "      <td>4</td>\n",
       "      <td>2343.42400</td>\n",
       "      <td>Simulation, Strategy, Entertainment</td>\n",
       "      <td>1</td>\n",
       "      <td>3</td>\n",
       "      <td>1.127930</td>\n",
       "    </tr>\n",
       "    <tr>\n",
       "      <td>16514</td>\n",
       "      <td>1460772578</td>\n",
       "      <td>Idle Theme Park - Tycoon Game</td>\n",
       "      <td>4.5</td>\n",
       "      <td>45369.0</td>\n",
       "      <td>0.00</td>\n",
       "      <td>1</td>\n",
       "      <td>9</td>\n",
       "      <td>3471.69792</td>\n",
       "      <td>Entertainment, Simulation, Strategy</td>\n",
       "      <td>1</td>\n",
       "      <td>3</td>\n",
       "      <td>0.439474</td>\n",
       "    </tr>\n",
       "    <tr>\n",
       "      <td>16525</td>\n",
       "      <td>1461453188</td>\n",
       "      <td>Dead Spreading:Idle Game</td>\n",
       "      <td>5.0</td>\n",
       "      <td>3253.0</td>\n",
       "      <td>0.00</td>\n",
       "      <td>1</td>\n",
       "      <td>12</td>\n",
       "      <td>2149.71392</td>\n",
       "      <td>Simulation, Strategy</td>\n",
       "      <td>1</td>\n",
       "      <td>2</td>\n",
       "      <td>-2.765251</td>\n",
       "    </tr>\n",
       "    <tr>\n",
       "      <td>16629</td>\n",
       "      <td>1464482102</td>\n",
       "      <td>Auto Chess:Origin</td>\n",
       "      <td>4.5</td>\n",
       "      <td>2943.0</td>\n",
       "      <td>0.00</td>\n",
       "      <td>1</td>\n",
       "      <td>12</td>\n",
       "      <td>7754.46528</td>\n",
       "      <td>Strategy</td>\n",
       "      <td>1</td>\n",
       "      <td>1</td>\n",
       "      <td>-2.956495</td>\n",
       "    </tr>\n",
       "    <tr>\n",
       "      <td>16690</td>\n",
       "      <td>1465996312</td>\n",
       "      <td>Dota Underlords</td>\n",
       "      <td>4.5</td>\n",
       "      <td>3511.0</td>\n",
       "      <td>0.00</td>\n",
       "      <td>0</td>\n",
       "      <td>12</td>\n",
       "      <td>7157.30944</td>\n",
       "      <td>Strategy</td>\n",
       "      <td>25</td>\n",
       "      <td>1</td>\n",
       "      <td>-2.629959</td>\n",
       "    </tr>\n",
       "  </tbody>\n",
       "</table>\n",
       "<p>971 rows × 12 columns</p>\n",
       "</div>"
      ],
      "text/plain": [
       "               id                           name  rating  ratingCount  price  \\\n",
       "0       284921427                         Sudoku     4.0       3553.0   2.99   \n",
       "2       284946595                        Morocco     3.0       8376.0   0.00   \n",
       "3       285755462                  Sudoku (Free)     3.5     190394.0   0.00   \n",
       "11      288096268                     Lumen Lite     3.5       5072.0   0.00   \n",
       "14      288918962                  Tetravex Lite     2.5       2358.0   0.00   \n",
       "...           ...                            ...     ...          ...    ...   \n",
       "16434  1459059300            Idle Roller Coaster     5.0      88855.0   0.00   \n",
       "16514  1460772578  Idle Theme Park - Tycoon Game     4.5      45369.0   0.00   \n",
       "16525  1461453188       Dead Spreading:Idle Game     5.0       3253.0   0.00   \n",
       "16629  1464482102              Auto Chess:Origin     4.5       2943.0   0.00   \n",
       "16690  1465996312                Dota Underlords     4.5       3511.0   0.00   \n",
       "\n",
       "       inAppPurchases  age        size                               genres  \\\n",
       "0                   0    4   158.53568                     Strategy, Puzzle   \n",
       "2                   0    4     6.74816                      Board, Strategy   \n",
       "3                   0    4   215.52128                     Strategy, Puzzle   \n",
       "11                  0    4    70.86403                     Puzzle, Strategy   \n",
       "14                  0    4     7.31525      Puzzle, Strategy, Entertainment   \n",
       "...               ...  ...         ...                                  ...   \n",
       "16434               1    4  2343.42400  Simulation, Strategy, Entertainment   \n",
       "16514               1    9  3471.69792  Entertainment, Simulation, Strategy   \n",
       "16525               1   12  2149.71392                 Simulation, Strategy   \n",
       "16629               1   12  7754.46528                             Strategy   \n",
       "16690               0   12  7157.30944                             Strategy   \n",
       "\n",
       "       numLanguages  numGeners       pop  \n",
       "0                17          2 -2.609569  \n",
       "2                 1          2 -1.410283  \n",
       "3                17          2  1.898964  \n",
       "11                1          2 -2.061464  \n",
       "14                1          3 -3.463521  \n",
       "...             ...        ...       ...  \n",
       "16434             1          3  1.127930  \n",
       "16514             1          3  0.439474  \n",
       "16525             1          2 -2.765251  \n",
       "16629             1          1 -2.956495  \n",
       "16690            25          1 -2.629959  \n",
       "\n",
       "[971 rows x 12 columns]"
      ]
     },
     "execution_count": 71,
     "metadata": {},
     "output_type": "execute_result"
    }
   ],
   "source": [
    "games"
   ]
  },
  {
   "cell_type": "markdown",
   "metadata": {},
   "source": [
    "### Use graphs to check if the current data is fit for linear regression "
   ]
  },
  {
   "cell_type": "markdown",
   "metadata": {},
   "source": [
    "Plot boxplot as shown below. The graph appears slightly skewed to the left, but seems normal over all. "
   ]
  },
  {
   "cell_type": "code",
   "execution_count": 72,
   "metadata": {},
   "outputs": [
    {
     "data": {
      "text/plain": [
       "<Figure size 432x288 with 0 Axes>"
      ]
     },
     "execution_count": 72,
     "metadata": {},
     "output_type": "execute_result"
    },
    {
     "data": {
      "image/png": "[encoded data removed]",
      "text/plain": [
       "<Figure size 432x288 with 1 Axes>"
      ]
     },
     "metadata": {
      "needs_background": "light"
     },
     "output_type": "display_data"
    },
    {
     "data": {
      "text/plain": [
       "<Figure size 432x288 with 0 Axes>"
      ]
     },
     "metadata": {},
     "output_type": "display_data"
    }
   ],
   "source": [
    "sns.boxplot(x=games['pop'])\n",
    "plt.figure()"
   ]
  },
  {
   "cell_type": "markdown",
   "metadata": {},
   "source": [
    "Plot the distribution with a histogram and maximum likelihood gaussian distribution fit as shown below. The graph appears to be normally distributed with no apparent skewness."
   ]
  },
  {
   "cell_type": "code",
   "execution_count": 73,
   "metadata": {
    "scrolled": true
   },
   "outputs": [
    {
     "data": {
      "text/plain": [
       "<Figure size 432x288 with 0 Axes>"
      ]
     },
     "execution_count": 73,
     "metadata": {},
     "output_type": "execute_result"
    },
    {
     "data": {
      "image/png": "[encoded data removed]",
      "text/plain": [
       "<Figure size 432x288 with 1 Axes>"
      ]
     },
     "metadata": {
      "needs_background": "light"
     },
     "output_type": "display_data"
    },
    {
     "data": {
      "text/plain": [
       "<Figure size 432x288 with 0 Axes>"
      ]
     },
     "metadata": {},
     "output_type": "display_data"
    }
   ],
   "source": [
    "sns.distplot(games['pop'], fit=stats.norm)\n",
    "plt.figure()"
   ]
  },
  {
   "cell_type": "markdown",
   "metadata": {},
   "source": [
    "Draw a combination of boxplot and kernel density estimate as shown below. It once again vertified that the current data for popularity is fit to use to do linear regression."
   ]
  },
  {
   "cell_type": "code",
   "execution_count": 74,
   "metadata": {},
   "outputs": [
    {
     "data": {
      "text/plain": [
       "<Figure size 432x288 with 0 Axes>"
      ]
     },
     "execution_count": 74,
     "metadata": {},
     "output_type": "execute_result"
    },
    {
     "data": {
      "image/png": "[encoded data removed]",
      "text/plain": [
       "<Figure size 432x288 with 1 Axes>"
      ]
     },
     "metadata": {
      "needs_background": "light"
     },
     "output_type": "display_data"
    },
    {
     "data": {
      "text/plain": [
       "<Figure size 432x288 with 0 Axes>"
      ]
     },
     "metadata": {},
     "output_type": "display_data"
    }
   ],
   "source": [
    "sns.violinplot(x=games['pop'], color='0.25')\n",
    "plt.figure()"
   ]
  },
  {
   "cell_type": "markdown",
   "metadata": {},
   "source": [
    "After standardized dataset, none of the graphs appear to be highly skewed. This indicates that we would continue into find the correlation matrix and compute regression models. "
   ]
  },
  {
   "cell_type": "markdown",
   "metadata": {},
   "source": [
    "### Find significant feature to predict popularity"
   ]
  },
  {
   "cell_type": "markdown",
   "metadata": {},
   "source": [
    "We use a correlation matrix to find siginificant features related to populairty "
   ]
  },
  {
   "cell_type": "code",
   "execution_count": 75,
   "metadata": {},
   "outputs": [
    {
     "data": {
      "text/html": [
       "<div>\n",
       "<style scoped>\n",
       "    .dataframe tbody tr th:only-of-type {\n",
       "        vertical-align: middle;\n",
       "    }\n",
       "\n",
       "    .dataframe tbody tr th {\n",
       "        vertical-align: top;\n",
       "    }\n",
       "\n",
       "    .dataframe thead th {\n",
       "        text-align: right;\n",
       "    }\n",
       "</style>\n",
       "<table border=\"1\" class=\"dataframe\">\n",
       "  <thead>\n",
       "    <tr style=\"text-align: right;\">\n",
       "      <th></th>\n",
       "      <th>rating</th>\n",
       "      <th>price</th>\n",
       "      <th>inAppPurchases</th>\n",
       "      <th>age</th>\n",
       "      <th>size</th>\n",
       "      <th>numLanguages</th>\n",
       "      <th>numGeners</th>\n",
       "      <th>pop</th>\n",
       "    </tr>\n",
       "  </thead>\n",
       "  <tbody>\n",
       "    <tr>\n",
       "      <td>rating</td>\n",
       "      <td>1.000000</td>\n",
       "      <td>0.029531</td>\n",
       "      <td>0.338828</td>\n",
       "      <td>0.138332</td>\n",
       "      <td>0.098707</td>\n",
       "      <td>0.076412</td>\n",
       "      <td>-0.028728</td>\n",
       "      <td>0.054949</td>\n",
       "    </tr>\n",
       "    <tr>\n",
       "      <td>price</td>\n",
       "      <td>0.029531</td>\n",
       "      <td>1.000000</td>\n",
       "      <td>-0.298486</td>\n",
       "      <td>-0.014005</td>\n",
       "      <td>0.161872</td>\n",
       "      <td>-0.091182</td>\n",
       "      <td>-0.068873</td>\n",
       "      <td>-0.045099</td>\n",
       "    </tr>\n",
       "    <tr>\n",
       "      <td>inAppPurchases</td>\n",
       "      <td>0.338828</td>\n",
       "      <td>-0.298486</td>\n",
       "      <td>1.000000</td>\n",
       "      <td>0.212906</td>\n",
       "      <td>0.090360</td>\n",
       "      <td>0.151681</td>\n",
       "      <td>0.070871</td>\n",
       "      <td>0.037933</td>\n",
       "    </tr>\n",
       "    <tr>\n",
       "      <td>age</td>\n",
       "      <td>0.138332</td>\n",
       "      <td>-0.014005</td>\n",
       "      <td>0.212906</td>\n",
       "      <td>1.000000</td>\n",
       "      <td>0.265452</td>\n",
       "      <td>0.111755</td>\n",
       "      <td>-0.063165</td>\n",
       "      <td>0.056476</td>\n",
       "    </tr>\n",
       "    <tr>\n",
       "      <td>size</td>\n",
       "      <td>0.098707</td>\n",
       "      <td>0.161872</td>\n",
       "      <td>0.090360</td>\n",
       "      <td>0.265452</td>\n",
       "      <td>1.000000</td>\n",
       "      <td>0.120069</td>\n",
       "      <td>-0.040697</td>\n",
       "      <td>0.051651</td>\n",
       "    </tr>\n",
       "    <tr>\n",
       "      <td>numLanguages</td>\n",
       "      <td>0.076412</td>\n",
       "      <td>-0.091182</td>\n",
       "      <td>0.151681</td>\n",
       "      <td>0.111755</td>\n",
       "      <td>0.120069</td>\n",
       "      <td>1.000000</td>\n",
       "      <td>0.003960</td>\n",
       "      <td>0.154776</td>\n",
       "    </tr>\n",
       "    <tr>\n",
       "      <td>numGeners</td>\n",
       "      <td>-0.028728</td>\n",
       "      <td>-0.068873</td>\n",
       "      <td>0.070871</td>\n",
       "      <td>-0.063165</td>\n",
       "      <td>-0.040697</td>\n",
       "      <td>0.003960</td>\n",
       "      <td>1.000000</td>\n",
       "      <td>0.016878</td>\n",
       "    </tr>\n",
       "    <tr>\n",
       "      <td>pop</td>\n",
       "      <td>0.054949</td>\n",
       "      <td>-0.045099</td>\n",
       "      <td>0.037933</td>\n",
       "      <td>0.056476</td>\n",
       "      <td>0.051651</td>\n",
       "      <td>0.154776</td>\n",
       "      <td>0.016878</td>\n",
       "      <td>1.000000</td>\n",
       "    </tr>\n",
       "  </tbody>\n",
       "</table>\n",
       "</div>"
      ],
      "text/plain": [
       "                  rating     price  inAppPurchases       age      size  \\\n",
       "rating          1.000000  0.029531        0.338828  0.138332  0.098707   \n",
       "price           0.029531  1.000000       -0.298486 -0.014005  0.161872   \n",
       "inAppPurchases  0.338828 -0.298486        1.000000  0.212906  0.090360   \n",
       "age             0.138332 -0.014005        0.212906  1.000000  0.265452   \n",
       "size            0.098707  0.161872        0.090360  0.265452  1.000000   \n",
       "numLanguages    0.076412 -0.091182        0.151681  0.111755  0.120069   \n",
       "numGeners      -0.028728 -0.068873        0.070871 -0.063165 -0.040697   \n",
       "pop             0.054949 -0.045099        0.037933  0.056476  0.051651   \n",
       "\n",
       "                numLanguages  numGeners       pop  \n",
       "rating              0.076412  -0.028728  0.054949  \n",
       "price              -0.091182  -0.068873 -0.045099  \n",
       "inAppPurchases      0.151681   0.070871  0.037933  \n",
       "age                 0.111755  -0.063165  0.056476  \n",
       "size                0.120069  -0.040697  0.051651  \n",
       "numLanguages        1.000000   0.003960  0.154776  \n",
       "numGeners           0.003960   1.000000  0.016878  \n",
       "pop                 0.154776   0.016878  1.000000  "
      ]
     },
     "execution_count": 75,
     "metadata": {},
     "output_type": "execute_result"
    }
   ],
   "source": [
    "games[['rating', 'price', 'inAppPurchases', 'age', 'size', 'numLanguages', 'numGeners', 'pop']].corr()"
   ]
  },
  {
   "cell_type": "markdown",
   "metadata": {},
   "source": [
    "### Variance Inflation Factors(VIF)"
   ]
  },
  {
   "cell_type": "markdown",
   "metadata": {},
   "source": [
    "Variance inflation factor measures how much variance of an independent variable is influenced by its interaction with the other independent variables. We want to have each variable little influenced by others, so we want the VIF to be low."
   ]
  },
  {
   "cell_type": "code",
   "execution_count": 76,
   "metadata": {},
   "outputs": [
    {
     "data": {
      "text/html": [
       "<div>\n",
       "<style scoped>\n",
       "    .dataframe tbody tr th:only-of-type {\n",
       "        vertical-align: middle;\n",
       "    }\n",
       "\n",
       "    .dataframe tbody tr th {\n",
       "        vertical-align: top;\n",
       "    }\n",
       "\n",
       "    .dataframe thead th {\n",
       "        text-align: right;\n",
       "    }\n",
       "</style>\n",
       "<table border=\"1\" class=\"dataframe\">\n",
       "  <thead>\n",
       "    <tr style=\"text-align: right;\">\n",
       "      <th></th>\n",
       "      <th>VIF Factor</th>\n",
       "      <th>variables</th>\n",
       "    </tr>\n",
       "  </thead>\n",
       "  <tbody>\n",
       "    <tr>\n",
       "      <td>0</td>\n",
       "      <td>9.95</td>\n",
       "      <td>rating</td>\n",
       "    </tr>\n",
       "    <tr>\n",
       "      <td>1</td>\n",
       "      <td>7.10</td>\n",
       "      <td>inAppPurchases</td>\n",
       "    </tr>\n",
       "    <tr>\n",
       "      <td>2</td>\n",
       "      <td>6.04</td>\n",
       "      <td>age</td>\n",
       "    </tr>\n",
       "    <tr>\n",
       "      <td>3</td>\n",
       "      <td>1.54</td>\n",
       "      <td>size</td>\n",
       "    </tr>\n",
       "    <tr>\n",
       "      <td>4</td>\n",
       "      <td>1.67</td>\n",
       "      <td>numLanguages</td>\n",
       "    </tr>\n",
       "  </tbody>\n",
       "</table>\n",
       "</div>"
      ],
      "text/plain": [
       "   VIF Factor       variables\n",
       "0        9.95          rating\n",
       "1        7.10  inAppPurchases\n",
       "2        6.04             age\n",
       "3        1.54            size\n",
       "4        1.67    numLanguages"
      ]
     },
     "execution_count": 76,
     "metadata": {},
     "output_type": "execute_result"
    }
   ],
   "source": [
    "myX = games[['rating', 'inAppPurchases', 'age', 'size', 'numLanguages']].copy()\n",
    "myX.dropna(inplace=True)\n",
    "vif = pd.DataFrame()\n",
    "vif['VIF Factor'] = [sm_influence.variance_inflation_factor(myX.values, i) for i in range(myX.shape[1])]\n",
    "vif['variables'] = myX.columns\n",
    "vif.round(2)"
   ]
  },
  {
   "cell_type": "markdown",
   "metadata": {},
   "source": [
    "VIF factors as shown in the table. Values greater than 5 indicats a strong correlation among current features; thus, we would want to drop them. Yet, rating is an important factor that we need to use in analysis of popularity. We drop the second large variable inAppPurchases instead."
   ]
  },
  {
   "cell_type": "code",
   "execution_count": 77,
   "metadata": {
    "scrolled": true
   },
   "outputs": [
    {
     "data": {
      "text/html": [
       "<div>\n",
       "<style scoped>\n",
       "    .dataframe tbody tr th:only-of-type {\n",
       "        vertical-align: middle;\n",
       "    }\n",
       "\n",
       "    .dataframe tbody tr th {\n",
       "        vertical-align: top;\n",
       "    }\n",
       "\n",
       "    .dataframe thead th {\n",
       "        text-align: right;\n",
       "    }\n",
       "</style>\n",
       "<table border=\"1\" class=\"dataframe\">\n",
       "  <thead>\n",
       "    <tr style=\"text-align: right;\">\n",
       "      <th></th>\n",
       "      <th>VIF Factor</th>\n",
       "      <th>variables</th>\n",
       "    </tr>\n",
       "  </thead>\n",
       "  <tbody>\n",
       "    <tr>\n",
       "      <td>0</td>\n",
       "      <td>5.83</td>\n",
       "      <td>rating</td>\n",
       "    </tr>\n",
       "    <tr>\n",
       "      <td>1</td>\n",
       "      <td>5.91</td>\n",
       "      <td>age</td>\n",
       "    </tr>\n",
       "    <tr>\n",
       "      <td>2</td>\n",
       "      <td>1.54</td>\n",
       "      <td>size</td>\n",
       "    </tr>\n",
       "    <tr>\n",
       "      <td>3</td>\n",
       "      <td>1.65</td>\n",
       "      <td>numLanguages</td>\n",
       "    </tr>\n",
       "  </tbody>\n",
       "</table>\n",
       "</div>"
      ],
      "text/plain": [
       "   VIF Factor     variables\n",
       "0        5.83        rating\n",
       "1        5.91           age\n",
       "2        1.54          size\n",
       "3        1.65  numLanguages"
      ]
     },
     "execution_count": 77,
     "metadata": {},
     "output_type": "execute_result"
    }
   ],
   "source": [
    "myX = games[['rating', 'age', 'size', 'numLanguages']].copy()\n",
    "myX.dropna(inplace=True)\n",
    "vif = pd.DataFrame()\n",
    "vif['VIF Factor'] = [sm_influence.variance_inflation_factor(myX.values, i) for i in range(myX.shape[1])]\n",
    "vif['variables'] = myX.columns\n",
    "vif.round(2)"
   ]
  },
  {
   "cell_type": "markdown",
   "metadata": {},
   "source": [
    "VIF factors as shown in the table. After removing inAppPurchases, there are still two values greater than 5. Thus, we remove the age variable. "
   ]
  },
  {
   "cell_type": "code",
   "execution_count": 78,
   "metadata": {},
   "outputs": [
    {
     "data": {
      "text/html": [
       "<div>\n",
       "<style scoped>\n",
       "    .dataframe tbody tr th:only-of-type {\n",
       "        vertical-align: middle;\n",
       "    }\n",
       "\n",
       "    .dataframe tbody tr th {\n",
       "        vertical-align: top;\n",
       "    }\n",
       "\n",
       "    .dataframe thead th {\n",
       "        text-align: right;\n",
       "    }\n",
       "</style>\n",
       "<table border=\"1\" class=\"dataframe\">\n",
       "  <thead>\n",
       "    <tr style=\"text-align: right;\">\n",
       "      <th></th>\n",
       "      <th>VIF Factor</th>\n",
       "      <th>variables</th>\n",
       "    </tr>\n",
       "  </thead>\n",
       "  <tbody>\n",
       "    <tr>\n",
       "      <td>0</td>\n",
       "      <td>1.94</td>\n",
       "      <td>rating</td>\n",
       "    </tr>\n",
       "    <tr>\n",
       "      <td>1</td>\n",
       "      <td>1.45</td>\n",
       "      <td>size</td>\n",
       "    </tr>\n",
       "    <tr>\n",
       "      <td>2</td>\n",
       "      <td>1.64</td>\n",
       "      <td>numLanguages</td>\n",
       "    </tr>\n",
       "  </tbody>\n",
       "</table>\n",
       "</div>"
      ],
      "text/plain": [
       "   VIF Factor     variables\n",
       "0        1.94        rating\n",
       "1        1.45          size\n",
       "2        1.64  numLanguages"
      ]
     },
     "execution_count": 78,
     "metadata": {},
     "output_type": "execute_result"
    }
   ],
   "source": [
    "myX = games[['rating', 'size', 'numLanguages']].copy()\n",
    "myX.dropna(inplace=True)\n",
    "vif = pd.DataFrame()\n",
    "vif['VIF Factor'] = [sm_influence.variance_inflation_factor(myX.values, i) for i in range(myX.shape[1])]\n",
    "vif['variables'] = myX.columns\n",
    "vif.round(2)"
   ]
  },
  {
   "cell_type": "markdown",
   "metadata": {},
   "source": [
    "Through the correlation chart, we can see that 'price' and 'numGeners' have weak correlation to the 'popularity', so we do not use these two feature in our prediction of popularity."
   ]
  },
  {
   "cell_type": "code",
   "execution_count": 79,
   "metadata": {},
   "outputs": [
    {
     "data": {
      "image/png": "[encoded data removed]",
      "text/plain": [
       "<Figure size 1080x360 with 3 Axes>"
      ]
     },
     "metadata": {
      "needs_background": "light"
     },
     "output_type": "display_data"
    }
   ],
   "source": [
    "fig, ax = plt.subplots(1, 3, figsize=(15, 5))\n",
    "sns.lineplot(x='size', y='pop', data=games, palette='Wistia', ax=ax[0])\n",
    "ax[0].set_title('Size vs Popularity')\n",
    "\n",
    "sns.lineplot(x='rating', y='pop', data=games, palette='Wistia', ax=ax[1])\n",
    "ax[1].set_title('Rating vs Popularity')\n",
    "\n",
    "sns.lineplot(x='numLanguages', y='pop', data=games, palette='Wistia', ax=ax[2])\n",
    "ax[2].set_title('Number of Languages vs Popularity')\n",
    "\n",
    "plt.tight_layout()\n",
    "plt.show()"
   ]
  },
  {
   "cell_type": "markdown",
   "metadata": {},
   "source": [
    "The above three lineplots show the relationships between size and popularity, rating and popularity, and number of languages and popularity as they are the three variables that we pick after calculating VIF. Rating vs popularity appears to have a more clearer upward trend. "
   ]
  },
  {
   "cell_type": "markdown",
   "metadata": {},
   "source": [
    "### Ordinary Least Squares regression (OLS) "
   ]
  },
  {
   "cell_type": "code",
   "execution_count": 80,
   "metadata": {},
   "outputs": [
    {
     "data": {
      "text/html": [
       "<table class=\"simpletable\">\n",
       "<caption>OLS Regression Results</caption>\n",
       "<tr>\n",
       "  <th>Dep. Variable:</th>           <td>pop</td>       <th>  R-squared:         </th> <td>   0.027</td>\n",
       "</tr>\n",
       "<tr>\n",
       "  <th>Model:</th>                   <td>OLS</td>       <th>  Adj. R-squared:    </th> <td>   0.024</td>\n",
       "</tr>\n",
       "<tr>\n",
       "  <th>Method:</th>             <td>Least Squares</td>  <th>  F-statistic:       </th> <td>   8.841</td>\n",
       "</tr>\n",
       "<tr>\n",
       "  <th>Date:</th>             <td>Thu, 12 Dec 2019</td> <th>  Prob (F-statistic):</th> <td>8.74e-06</td>\n",
       "</tr>\n",
       "<tr>\n",
       "  <th>Time:</th>                 <td>23:59:26</td>     <th>  Log-Likelihood:    </th> <td> -1989.2</td>\n",
       "</tr>\n",
       "<tr>\n",
       "  <th>No. Observations:</th>      <td>   971</td>      <th>  AIC:               </th> <td>   3986.</td>\n",
       "</tr>\n",
       "<tr>\n",
       "  <th>Df Residuals:</th>          <td>   967</td>      <th>  BIC:               </th> <td>   4006.</td>\n",
       "</tr>\n",
       "<tr>\n",
       "  <th>Df Model:</th>              <td>     3</td>      <th>                     </th>     <td> </td>   \n",
       "</tr>\n",
       "<tr>\n",
       "  <th>Covariance Type:</th>      <td>nonrobust</td>    <th>                     </th>     <td> </td>   \n",
       "</tr>\n",
       "</table>\n",
       "<table class=\"simpletable\">\n",
       "<tr>\n",
       "        <td></td>          <th>coef</th>     <th>std err</th>      <th>t</th>      <th>P>|t|</th>  <th>[0.025</th>    <th>0.975]</th>  \n",
       "</tr>\n",
       "<tr>\n",
       "  <th>Intercept</th>    <td>   -2.8860</td> <td>    0.533</td> <td>   -5.419</td> <td> 0.000</td> <td>   -3.931</td> <td>   -1.841</td>\n",
       "</tr>\n",
       "<tr>\n",
       "  <th>rating</th>       <td>    0.1563</td> <td>    0.123</td> <td>    1.273</td> <td> 0.203</td> <td>   -0.085</td> <td>    0.397</td>\n",
       "</tr>\n",
       "<tr>\n",
       "  <th>size</th>         <td> 1.471e-05</td> <td> 1.58e-05</td> <td>    0.930</td> <td> 0.352</td> <td>-1.63e-05</td> <td> 4.57e-05</td>\n",
       "</tr>\n",
       "<tr>\n",
       "  <th>numLanguages</th> <td>    0.0352</td> <td>    0.008</td> <td>    4.624</td> <td> 0.000</td> <td>    0.020</td> <td>    0.050</td>\n",
       "</tr>\n",
       "</table>\n",
       "<table class=\"simpletable\">\n",
       "<tr>\n",
       "  <th>Omnibus:</th>       <td>12.205</td> <th>  Durbin-Watson:     </th> <td>   1.878</td>\n",
       "</tr>\n",
       "<tr>\n",
       "  <th>Prob(Omnibus):</th> <td> 0.002</td> <th>  Jarque-Bera (JB):  </th> <td>  13.740</td>\n",
       "</tr>\n",
       "<tr>\n",
       "  <th>Skew:</th>          <td>-0.203</td> <th>  Prob(JB):          </th> <td> 0.00104</td>\n",
       "</tr>\n",
       "<tr>\n",
       "  <th>Kurtosis:</th>      <td> 3.418</td> <th>  Cond. No.          </th> <td>4.16e+04</td>\n",
       "</tr>\n",
       "</table><br/><br/>Warnings:<br/>[1] Standard Errors assume that the covariance matrix of the errors is correctly specified.<br/>[2] The condition number is large, 4.16e+04. This might indicate that there are<br/>strong multicollinearity or other numerical problems."
      ],
      "text/plain": [
       "<class 'statsmodels.iolib.summary.Summary'>\n",
       "\"\"\"\n",
       "                            OLS Regression Results                            \n",
       "==============================================================================\n",
       "Dep. Variable:                    pop   R-squared:                       0.027\n",
       "Model:                            OLS   Adj. R-squared:                  0.024\n",
       "Method:                 Least Squares   F-statistic:                     8.841\n",
       "Date:                Thu, 12 Dec 2019   Prob (F-statistic):           8.74e-06\n",
       "Time:                        23:59:26   Log-Likelihood:                -1989.2\n",
       "No. Observations:                 971   AIC:                             3986.\n",
       "Df Residuals:                     967   BIC:                             4006.\n",
       "Df Model:                           3                                         \n",
       "Covariance Type:            nonrobust                                         \n",
       "================================================================================\n",
       "                   coef    std err          t      P>|t|      [0.025      0.975]\n",
       "--------------------------------------------------------------------------------\n",
       "Intercept       -2.8860      0.533     -5.419      0.000      -3.931      -1.841\n",
       "rating           0.1563      0.123      1.273      0.203      -0.085       0.397\n",
       "size          1.471e-05   1.58e-05      0.930      0.352   -1.63e-05    4.57e-05\n",
       "numLanguages     0.0352      0.008      4.624      0.000       0.020       0.050\n",
       "==============================================================================\n",
       "Omnibus:                       12.205   Durbin-Watson:                   1.878\n",
       "Prob(Omnibus):                  0.002   Jarque-Bera (JB):               13.740\n",
       "Skew:                          -0.203   Prob(JB):                      0.00104\n",
       "Kurtosis:                       3.418   Cond. No.                     4.16e+04\n",
       "==============================================================================\n",
       "\n",
       "Warnings:\n",
       "[1] Standard Errors assume that the covariance matrix of the errors is correctly specified.\n",
       "[2] The condition number is large, 4.16e+04. This might indicate that there are\n",
       "strong multicollinearity or other numerical problems.\n",
       "\"\"\""
      ]
     },
     "execution_count": 80,
     "metadata": {},
     "output_type": "execute_result"
    }
   ],
   "source": [
    "#sig_feat = 'popularity ~ rating + inAppPurchases + age + size + numLanguages'\n",
    "#sig_feat = 'pop ~ rating + inAppPurchases + age + size + numLanguages'\n",
    "sig_feat = 'pop ~ rating + size + numLanguages'\n",
    "outcome, predictors = patsy.dmatrices(sig_feat, games)\n",
    "mod = sm.OLS(outcome, predictors)\n",
    "res = mod.fit()\n",
    "res.summary()"
   ]
  },
  {
   "cell_type": "code",
   "execution_count": 81,
   "metadata": {},
   "outputs": [
    {
     "data": {
      "text/plain": [
       "<Figure size 432x288 with 0 Axes>"
      ]
     },
     "execution_count": 81,
     "metadata": {},
     "output_type": "execute_result"
    },
    {
     "data": {
      "image/png": "[encoded data removed]",
      "text/plain": [
       "<Figure size 432x288 with 1 Axes>"
      ]
     },
     "metadata": {
      "needs_background": "light"
     },
     "output_type": "display_data"
    },
    {
     "data": {
      "text/plain": [
       "<Figure size 432x288 with 0 Axes>"
      ]
     },
     "metadata": {},
     "output_type": "display_data"
    }
   ],
   "source": [
    "games['Residuals'] = res.resid\n",
    "games['Predicted'] = res.fittedvalues\n",
    "games_subset = games[games.Predicted < -0.5]\n",
    "plt.scatter(games_subset.Predicted, games_subset.Residuals, s=3, alpha=0.5)\n",
    "plt.title(\"Residuals by Predicted\")\n",
    "plt.xlabel('Predicted')\n",
    "plt.ylabel('Residuals')\n",
    "plt.figure()"
   ]
  },
  {
   "cell_type": "markdown",
   "metadata": {},
   "source": [
    "The residual plots shows no strong patterns. Even though it more densed aroud -2.25 to -1.75, it appears to be random distributed around residuals = 0. Therefore, OLS is vaild to use in this analysis."
   ]
  },
  {
   "cell_type": "markdown",
   "metadata": {},
   "source": [
    "### Robust Regression with type HC3."
   ]
  },
  {
   "cell_type": "code",
   "execution_count": 82,
   "metadata": {},
   "outputs": [
    {
     "data": {
      "text/html": [
       "<table class=\"simpletable\">\n",
       "<caption>OLS Regression Results</caption>\n",
       "<tr>\n",
       "  <th>Dep. Variable:</th>           <td>pop</td>       <th>  R-squared:         </th> <td>   0.027</td>\n",
       "</tr>\n",
       "<tr>\n",
       "  <th>Model:</th>                   <td>OLS</td>       <th>  Adj. R-squared:    </th> <td>   0.024</td>\n",
       "</tr>\n",
       "<tr>\n",
       "  <th>Method:</th>             <td>Least Squares</td>  <th>  F-statistic:       </th> <td>   7.901</td>\n",
       "</tr>\n",
       "<tr>\n",
       "  <th>Date:</th>             <td>Thu, 12 Dec 2019</td> <th>  Prob (F-statistic):</th> <td>3.29e-05</td>\n",
       "</tr>\n",
       "<tr>\n",
       "  <th>Time:</th>                 <td>23:59:26</td>     <th>  Log-Likelihood:    </th> <td> -1989.2</td>\n",
       "</tr>\n",
       "<tr>\n",
       "  <th>No. Observations:</th>      <td>   971</td>      <th>  AIC:               </th> <td>   3986.</td>\n",
       "</tr>\n",
       "<tr>\n",
       "  <th>Df Residuals:</th>          <td>   967</td>      <th>  BIC:               </th> <td>   4006.</td>\n",
       "</tr>\n",
       "<tr>\n",
       "  <th>Df Model:</th>              <td>     3</td>      <th>                     </th>     <td> </td>   \n",
       "</tr>\n",
       "<tr>\n",
       "  <th>Covariance Type:</th>         <td>HC3</td>       <th>                     </th>     <td> </td>   \n",
       "</tr>\n",
       "</table>\n",
       "<table class=\"simpletable\">\n",
       "<tr>\n",
       "        <td></td>          <th>coef</th>     <th>std err</th>      <th>t</th>      <th>P>|t|</th>  <th>[0.025</th>    <th>0.975]</th>  \n",
       "</tr>\n",
       "<tr>\n",
       "  <th>Intercept</th>    <td>   -2.8860</td> <td>    0.529</td> <td>   -5.457</td> <td> 0.000</td> <td>   -3.924</td> <td>   -1.848</td>\n",
       "</tr>\n",
       "<tr>\n",
       "  <th>rating</th>       <td>    0.1563</td> <td>    0.122</td> <td>    1.283</td> <td> 0.200</td> <td>   -0.083</td> <td>    0.395</td>\n",
       "</tr>\n",
       "<tr>\n",
       "  <th>size</th>         <td> 1.471e-05</td> <td> 1.31e-05</td> <td>    1.121</td> <td> 0.263</td> <td> -1.1e-05</td> <td> 4.05e-05</td>\n",
       "</tr>\n",
       "<tr>\n",
       "  <th>numLanguages</th> <td>    0.0352</td> <td>    0.008</td> <td>    4.201</td> <td> 0.000</td> <td>    0.019</td> <td>    0.052</td>\n",
       "</tr>\n",
       "</table>\n",
       "<table class=\"simpletable\">\n",
       "<tr>\n",
       "  <th>Omnibus:</th>       <td>12.205</td> <th>  Durbin-Watson:     </th> <td>   1.878</td>\n",
       "</tr>\n",
       "<tr>\n",
       "  <th>Prob(Omnibus):</th> <td> 0.002</td> <th>  Jarque-Bera (JB):  </th> <td>  13.740</td>\n",
       "</tr>\n",
       "<tr>\n",
       "  <th>Skew:</th>          <td>-0.203</td> <th>  Prob(JB):          </th> <td> 0.00104</td>\n",
       "</tr>\n",
       "<tr>\n",
       "  <th>Kurtosis:</th>      <td> 3.418</td> <th>  Cond. No.          </th> <td>4.16e+04</td>\n",
       "</tr>\n",
       "</table><br/><br/>Warnings:<br/>[1] Standard Errors are heteroscedasticity robust (HC3)<br/>[2] The condition number is large, 4.16e+04. This might indicate that there are<br/>strong multicollinearity or other numerical problems."
      ],
      "text/plain": [
       "<class 'statsmodels.iolib.summary.Summary'>\n",
       "\"\"\"\n",
       "                            OLS Regression Results                            \n",
       "==============================================================================\n",
       "Dep. Variable:                    pop   R-squared:                       0.027\n",
       "Model:                            OLS   Adj. R-squared:                  0.024\n",
       "Method:                 Least Squares   F-statistic:                     7.901\n",
       "Date:                Thu, 12 Dec 2019   Prob (F-statistic):           3.29e-05\n",
       "Time:                        23:59:26   Log-Likelihood:                -1989.2\n",
       "No. Observations:                 971   AIC:                             3986.\n",
       "Df Residuals:                     967   BIC:                             4006.\n",
       "Df Model:                           3                                         \n",
       "Covariance Type:                  HC3                                         \n",
       "================================================================================\n",
       "                   coef    std err          t      P>|t|      [0.025      0.975]\n",
       "--------------------------------------------------------------------------------\n",
       "Intercept       -2.8860      0.529     -5.457      0.000      -3.924      -1.848\n",
       "rating           0.1563      0.122      1.283      0.200      -0.083       0.395\n",
       "size          1.471e-05   1.31e-05      1.121      0.263    -1.1e-05    4.05e-05\n",
       "numLanguages     0.0352      0.008      4.201      0.000       0.019       0.052\n",
       "==============================================================================\n",
       "Omnibus:                       12.205   Durbin-Watson:                   1.878\n",
       "Prob(Omnibus):                  0.002   Jarque-Bera (JB):               13.740\n",
       "Skew:                          -0.203   Prob(JB):                      0.00104\n",
       "Kurtosis:                       3.418   Cond. No.                     4.16e+04\n",
       "==============================================================================\n",
       "\n",
       "Warnings:\n",
       "[1] Standard Errors are heteroscedasticity robust (HC3)\n",
       "[2] The condition number is large, 4.16e+04. This might indicate that there are\n",
       "strong multicollinearity or other numerical problems.\n",
       "\"\"\""
      ]
     },
     "execution_count": 82,
     "metadata": {},
     "output_type": "execute_result"
    }
   ],
   "source": [
    "robust_res = res.get_robustcov_results(cov_type='HC3', use_t=None)\n",
    "robust_res.summary()"
   ]
  },
  {
   "cell_type": "markdown",
   "metadata": {},
   "source": [
    "### Multivariate imputation by chained equations (MICE)"
   ]
  },
  {
   "cell_type": "markdown",
   "metadata": {},
   "source": [
    "missing data is modeled conditional upon the other variables in the data."
   ]
  },
  {
   "cell_type": "code",
   "execution_count": 83,
   "metadata": {
    "scrolled": true
   },
   "outputs": [
    {
     "data": {
      "text/html": [
       "<table class=\"simpletable\">\n",
       "<tr>\n",
       "        <td>Method:</td>       <td>MICE</td>   <td>Sample size:</td>    <td>971</td>\n",
       "</tr>\n",
       "<tr>\n",
       "        <td>Model:</td>         <td>OLS</td>       <td>Scale</td>      <td>3.54</td>\n",
       "</tr>\n",
       "<tr>\n",
       "  <td>Dependent variable:</td>  <td>pop</td> <td>Num. imputations</td>  <td>10</td> \n",
       "</tr>\n",
       "</table>\n",
       "<table class=\"simpletable\">\n",
       "<tr>\n",
       "        <td></td>        <th>Coef.</th>  <th>Std.Err.</th>    <th>t</th>     <th>P>|t|</th> <th>[0.025</th>  <th>0.975]</th>    <th>FMI</th> \n",
       "</tr>\n",
       "<tr>\n",
       "  <th>Intercept</th>    <td>-2.8860</td>  <td>0.5326</td>  <td>-5.4190</td> <td>0.0000</td> <td>-3.9299</td> <td>-1.8422</td> <td>0.0000</td>\n",
       "</tr>\n",
       "<tr>\n",
       "  <th>rating</th>       <td>0.1563</td>   <td>0.1227</td>  <td>1.2735</td>  <td>0.2028</td> <td>-0.0842</td> <td>0.3968</td>  <td>0.0000</td>\n",
       "</tr>\n",
       "<tr>\n",
       "  <th>size</th>         <td>0.0000</td>   <td>0.0000</td>  <td>0.9304</td>  <td>0.3522</td> <td>-0.0000</td> <td>0.0000</td>  <td>0.0000</td>\n",
       "</tr>\n",
       "<tr>\n",
       "  <th>numLanguages</th> <td>0.0352</td>   <td>0.0076</td>  <td>4.6239</td>  <td>0.0000</td> <td>0.0203</td>  <td>0.0501</td>  <td>0.0000</td>\n",
       "</tr>\n",
       "</table>"
      ],
      "text/plain": [
       "<class 'statsmodels.iolib.summary2.Summary'>\n",
       "\"\"\"\n",
       "                           Results: MICE\n",
       "===================================================================\n",
       "Method:                    MICE        Sample size:            971 \n",
       "Model:                     OLS         Scale                   3.54\n",
       "Dependent variable:        pop         Num. imputations        10  \n",
       "-------------------------------------------------------------------\n",
       "              Coef.  Std.Err.    t    P>|t|   [0.025  0.975]  FMI  \n",
       "-------------------------------------------------------------------\n",
       "Intercept    -2.8860   0.5326 -5.4190 0.0000 -3.9299 -1.8422 0.0000\n",
       "rating        0.1563   0.1227  1.2735 0.2028 -0.0842  0.3968 0.0000\n",
       "size          0.0000   0.0000  0.9304 0.3522 -0.0000  0.0000 0.0000\n",
       "numLanguages  0.0352   0.0076  4.6239 0.0000  0.0203  0.0501 0.0000\n",
       "===================================================================\n",
       "\n",
       "\"\"\""
      ]
     },
     "execution_count": 83,
     "metadata": {},
     "output_type": "execute_result"
    }
   ],
   "source": [
    "games_regression_columns = games[['pop', 'rating', 'size', 'numLanguages']]\n",
    "imp = mice.MICEData(games_regression_columns)\n",
    "mice_res = mice.MICE('pop ~ rating + size + numLanguages', sm.OLS, imp).fit()\n",
    "mice_res.summary()"
   ]
  },
  {
   "cell_type": "markdown",
   "metadata": {},
   "source": [
    "### Robust Linear Model (RLM)"
   ]
  },
  {
   "cell_type": "markdown",
   "metadata": {},
   "source": [
    "Next, we are going to handle outliers by using CooksD algorithm and perform RLM."
   ]
  },
  {
   "cell_type": "code",
   "execution_count": 84,
   "metadata": {},
   "outputs": [
    {
     "data": {
      "text/html": [
       "<table class=\"simpletable\">\n",
       "<caption>Robust linear Model Regression Results</caption>\n",
       "<tr>\n",
       "  <th>Dep. Variable:</th>         <td>pop</td>       <th>  No. Observations:  </th> <td>   219</td>\n",
       "</tr>\n",
       "<tr>\n",
       "  <th>Model:</th>                 <td>RLM</td>       <th>  Df Residuals:      </th> <td>   215</td>\n",
       "</tr>\n",
       "<tr>\n",
       "  <th>Method:</th>               <td>IRLS</td>       <th>  Df Model:          </th> <td>     3</td>\n",
       "</tr>\n",
       "<tr>\n",
       "  <th>Norm:</th>                <td>HuberT</td>      <th>                     </th>    <td> </td>  \n",
       "</tr>\n",
       "<tr>\n",
       "  <th>Scale Est.:</th>            <td>mad</td>       <th>                     </th>    <td> </td>  \n",
       "</tr>\n",
       "<tr>\n",
       "  <th>Cov Type:</th>              <td>H1</td>        <th>                     </th>    <td> </td>  \n",
       "</tr>\n",
       "<tr>\n",
       "  <th>Date:</th>           <td>Thu, 12 Dec 2019</td> <th>                     </th>    <td> </td>  \n",
       "</tr>\n",
       "<tr>\n",
       "  <th>Time:</th>               <td>23:59:26</td>     <th>                     </th>    <td> </td>  \n",
       "</tr>\n",
       "<tr>\n",
       "  <th>No. Iterations:</th>        <td>12</td>        <th>                     </th>    <td> </td>  \n",
       "</tr>\n",
       "</table>\n",
       "<table class=\"simpletable\">\n",
       "<tr>\n",
       "        <td></td>          <th>coef</th>     <th>std err</th>      <th>z</th>      <th>P>|z|</th>  <th>[0.025</th>    <th>0.975]</th>  \n",
       "</tr>\n",
       "<tr>\n",
       "  <th>Intercept</th>    <td>   -2.3447</td> <td>    0.821</td> <td>   -2.858</td> <td> 0.004</td> <td>   -3.953</td> <td>   -0.737</td>\n",
       "</tr>\n",
       "<tr>\n",
       "  <th>rating</th>       <td>    0.1130</td> <td>    0.217</td> <td>    0.521</td> <td> 0.602</td> <td>   -0.312</td> <td>    0.538</td>\n",
       "</tr>\n",
       "<tr>\n",
       "  <th>size</th>         <td>  1.51e-06</td> <td>    0.000</td> <td>    0.014</td> <td> 0.989</td> <td>   -0.000</td> <td>    0.000</td>\n",
       "</tr>\n",
       "<tr>\n",
       "  <th>numLanguages</th> <td>    0.0389</td> <td>    0.017</td> <td>    2.245</td> <td> 0.025</td> <td>    0.005</td> <td>    0.073</td>\n",
       "</tr>\n",
       "</table><br/><br/>If the model instance has been used for another fit with different fit<br/>parameters, then the fit options might not be the correct ones anymore ."
      ],
      "text/plain": [
       "<class 'statsmodels.iolib.summary.Summary'>\n",
       "\"\"\"\n",
       "                    Robust linear Model Regression Results                    \n",
       "==============================================================================\n",
       "Dep. Variable:                    pop   No. Observations:                  219\n",
       "Model:                            RLM   Df Residuals:                      215\n",
       "Method:                          IRLS   Df Model:                            3\n",
       "Norm:                          HuberT                                         \n",
       "Scale Est.:                       mad                                         \n",
       "Cov Type:                          H1                                         \n",
       "Date:                Thu, 12 Dec 2019                                         \n",
       "Time:                        23:59:26                                         \n",
       "No. Iterations:                    12                                         \n",
       "================================================================================\n",
       "                   coef    std err          z      P>|z|      [0.025      0.975]\n",
       "--------------------------------------------------------------------------------\n",
       "Intercept       -2.3447      0.821     -2.858      0.004      -3.953      -0.737\n",
       "rating           0.1130      0.217      0.521      0.602      -0.312       0.538\n",
       "size           1.51e-06      0.000      0.014      0.989      -0.000       0.000\n",
       "numLanguages     0.0389      0.017      2.245      0.025       0.005       0.073\n",
       "================================================================================\n",
       "\n",
       "If the model instance has been used for another fit with different fit\n",
       "parameters, then the fit options might not be the correct ones anymore .\n",
       "\"\"\""
      ]
     },
     "execution_count": 84,
     "metadata": {},
     "output_type": "execute_result"
    }
   ],
   "source": [
    "games['CooksD'] = res.get_influence().summary_frame().filter(['cooks_d'])\n",
    "games = games[games['CooksD'] < 4/games['Residuals'].count()]\n",
    "\n",
    "y,X = patsy.dmatrices('pop ~ rating + size + numLanguages', data=games, return_type='dataframe')\n",
    "rlm_res = sm.RLM(y,X, M=sm.robust.norms.HuberT()).fit()\n",
    "rlm_res.summary()"
   ]
  },
  {
   "cell_type": "markdown",
   "metadata": {},
   "source": [
    "### Model Prediction"
   ]
  },
  {
   "cell_type": "markdown",
   "metadata": {},
   "source": [
    "To verify the correctness of the model, we use mean absolute error to measure the average horizontal distance between each true point and the identity line. We set the baseline model to be simply predict the popularity as the mean of ture popularity label, and get MAE of 1.443808. Then we test our model and get MAE of 1.424274. From the comparison of two MAE values, we can see that our model achieve a better result than the baseline model. However, we did not improve the MAE score much which means that we still have a lot of space for improvement."
   ]
  },
  {
   "cell_type": "code",
   "execution_count": 85,
   "metadata": {},
   "outputs": [],
   "source": [
    "def linear_mod_pred(datum):\n",
    "    rating = datum[2]\n",
    "    size = datum[7]\n",
    "    numLanguages = datum[9]\n",
    "    pred = -2.3447 + 0.1130 * rating + 1.51e-06 * size + 0.0389 * numLanguages\n",
    "    return pred"
   ]
  },
  {
   "cell_type": "code",
   "execution_count": 86,
   "metadata": {},
   "outputs": [],
   "source": [
    "y_label = games['pop'].values\n",
    "y_mod_pred = [linear_mod_pred(d) for d in games.values]\n",
    "y_mean_pred = [np.mean(y_label)] * len(games)\n",
    "mae_base = mean_absolute_error(y_label, y_mean_pred)\n",
    "mae_mod = mean_absolute_error(y_label, y_mod_pred)"
   ]
  },
  {
   "cell_type": "code",
   "execution_count": 87,
   "metadata": {},
   "outputs": [
    {
     "name": "stdout",
     "output_type": "stream",
     "text": [
      "The mean absolute error for the baseline is 1.443808\n",
      "The mean absolute error for our model is 1.424274\n"
     ]
    }
   ],
   "source": [
    "print(\"The mean absolute error for the baseline is %f\" % (mae_base))\n",
    "print(\"The mean absolute error for our model is %f\" % (mae_mod))"
   ]
  },
  {
   "cell_type": "markdown",
   "metadata": {},
   "source": [
    "# Ethics & Privacy"
   ]
  },
  {
   "cell_type": "markdown",
   "metadata": {},
   "source": [
    "No ethical issues raise from this project. This project is aimed to help developers make their applications more appealing to users by modifying their applications' additional features. \n",
    "\n",
    "No privacy will be violated by this project. All the data used in this project is collected from Apple App Store where none of the data contains any identification information. \n",
    "Since the application developers asked the Apple company to remove the download counting for their privacy, we choose to use the rating count to evaluate the popularity of the applications.\n",
    "\n",
    "The data from Apple App Store objectively record all the existing data and features that we can find through the Apple App Store application, so the data is collected without bias, and the features are all reasonable.\n",
    "\n",
    "The only ethical concerns that may raise from this project is whether finding out which features would encourage more users to play a mobile game would violate users' right. Considering the categories that we used in this project are not violating user' privacy, this should not be an ethical concerns. \n",
    "\n",
    "The process of analysis is mainly about statistics and prediction using linear models, so no ethical and privacy issues should appear.\n",
    "\n",
    "Therefore, there is no ethical controversy raises from this project."
   ]
  },
  {
   "cell_type": "markdown",
   "metadata": {},
   "source": [
    "# Conclusion & Discussion"
   ]
  },
  {
   "cell_type": "markdown",
   "metadata": {},
   "source": [
    "In this project, we aimed to find out what features will bring positive influence to the popularity of a game in Apple App Store. In other words, we want to find out what features lead to the success of a game. Also, through our project, we want to not only notice the developers what features they should focus on when developing their apps, but also inform the consumers what applications are worth to download.\n",
    "\n",
    "In the beginning, we cleared the raw datfile to drop useless feature columns, dropped NaN values for the selected features, and standardized the feature values. With the clean dataset, we firstly use corelation coefficient to select the features that have strong linear relationship to the popularity feature. Then, we used Variance Inflation Factors to select features that have synergic correlation to the popularity features. With the selected features, we used OLS, MICE, and Robust Linear Regression model to calculate and further optimize the coeffiecint values of those features.\n",
    "\n",
    "To verify the correctness of the model, we build a prediction model based on the result of coefficient values, and use mean absolute error to measure the average horizontal distance between each true point and the identity line. We set the baseline model to be simply predict the popularity as the mean of ture popularity label, and get MAE of 1.443808. Then we test our model and get MAE of 1.424274. From the comparison of two MAE values, we can see that our model achieve a better result than the baseline model. However, we did not improve the MAE score much which means that we still have a lot of space for improvement.\n",
    "\n",
    "The limitation through our project is that the dataset is unbalance that the games have very few or zero rating count take great scale of our dataset, which may greatly effect the correlation of the popularity feature & other features, and the prediction prediction. Also, some features may have non-linear relationship with the popularity feature, and we should consider this issue and improve our model in future steps."
   ]
  }
 ],
 "metadata": {
  "kernelspec": {
   "display_name": "Python 3",
   "language": "python",
   "name": "python3"
  },
  "language_info": {
   "codemirror_mode": {
    "name": "ipython",
    "version": 3
   },
   "file_extension": ".py",
   "mimetype": "text/x-python",
   "name": "python",
   "nbconvert_exporter": "python",
   "pygments_lexer": "ipython3",
   "version": "3.7.4"
  }
 },
 "nbformat": 4,
 "nbformat_minor": 2
}
