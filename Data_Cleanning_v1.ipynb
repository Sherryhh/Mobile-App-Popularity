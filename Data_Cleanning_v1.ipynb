{
 "cells": [
  {
   "cell_type": "markdown",
   "metadata": {},
   "source": [
    "# COGS 108 - Final Project "
   ]
  },
  {
   "cell_type": "markdown",
   "metadata": {},
   "source": [
    "# Overview"
   ]
  },
  {
   "cell_type": "markdown",
   "metadata": {},
   "source": [
    "*Fill in your overview here*"
   ]
  },
  {
   "cell_type": "markdown",
   "metadata": {},
   "source": [
    "# Names\n",
    "\n",
    "- Ant Man\n",
    "- Hulk\n",
    "- Iron Man\n",
    "- Thor\n",
    "- Wasp"
   ]
  },
  {
   "cell_type": "markdown",
   "metadata": {},
   "source": [
    "# Group Members IDs\n",
    "\n",
    "- A########\n",
    "- A########\n",
    "- A########\n",
    "- A########\n",
    "- A########"
   ]
  },
  {
   "cell_type": "markdown",
   "metadata": {},
   "source": [
    "# Research Question"
   ]
  },
  {
   "cell_type": "markdown",
   "metadata": {},
   "source": [
    "*Fill in your research question here*"
   ]
  },
  {
   "cell_type": "markdown",
   "metadata": {},
   "source": [
    "## Background and Prior Work"
   ]
  },
  {
   "cell_type": "markdown",
   "metadata": {},
   "source": [
    "*Fill in your background and prior work here* \n",
    "\n",
    "References (include links):\n",
    "- 1)\n",
    "- 2)"
   ]
  },
  {
   "cell_type": "markdown",
   "metadata": {},
   "source": [
    "# Hypothesis\n"
   ]
  },
  {
   "cell_type": "markdown",
   "metadata": {},
   "source": [
    "*Fill in your hypotheses here*"
   ]
  },
  {
   "cell_type": "markdown",
   "metadata": {},
   "source": [
    "# Dataset(s)"
   ]
  },
  {
   "cell_type": "markdown",
   "metadata": {},
   "source": [
    "*Fill in your dataset information here*\n",
    "\n",
    "(Copy this information for each dataset)\n",
    "- Dataset Name:\n",
    "- Link to the dataset:\n",
    "- Number of observations:\n",
    "\n",
    "1-2 sentences describing each dataset. \n",
    "\n",
    "If you plan to use multiple datasets, add 1-2 sentences about how you plan to combine these datasets."
   ]
  },
  {
   "cell_type": "markdown",
   "metadata": {},
   "source": [
    "# Setup"
   ]
  },
  {
   "cell_type": "code",
   "execution_count": 266,
   "metadata": {},
   "outputs": [
    {
     "data": {
      "text/plain": [
       "(17007, 18)"
      ]
     },
     "execution_count": 266,
     "metadata": {},
     "output_type": "execute_result"
    }
   ],
   "source": [
    "## YOUR CODE HERE\n",
    "import numpy as np\n",
    "import pandas as pd\n",
    "games = pd.read_csv(\"./appstore_games.csv\")\n",
    "games.shape"
   ]
  },
  {
   "cell_type": "markdown",
   "metadata": {},
   "source": [
    "# Data Cleaning"
   ]
  },
  {
   "cell_type": "markdown",
   "metadata": {},
   "source": [
    "Describe your data cleaning steps here."
   ]
  },
  {
   "cell_type": "code",
   "execution_count": 267,
   "metadata": {},
   "outputs": [],
   "source": [
    "## YOUR CODE HERE\n",
    "## FEEL FREE TO ADD MULTIPLE CELLS PER SECTION\n",
    "n_nan_rating = games['Average User Rating'].isnull().sum()"
   ]
  },
  {
   "cell_type": "code",
   "execution_count": 268,
   "metadata": {},
   "outputs": [],
   "source": [
    "games.dropna(subset=['Average User Rating'], inplace=True)"
   ]
  },
  {
   "cell_type": "code",
   "execution_count": 269,
   "metadata": {},
   "outputs": [],
   "source": [
    "n_nan_rating = games['Average User Rating'].isnull().sum()\n",
    "assert n_nan_rating == 0"
   ]
  },
  {
   "cell_type": "code",
   "execution_count": 270,
   "metadata": {},
   "outputs": [],
   "source": [
    "games_clean = games[['ID', 'Name', 'Average User Rating', 'User Rating Count', \n",
    "                     'Price', 'In-app Purchases', 'Age Rating', 'Languages', 'Size', 'Genres']]"
   ]
  },
  {
   "cell_type": "code",
   "execution_count": 271,
   "metadata": {},
   "outputs": [],
   "source": [
    "n_nan_price = games_clean['Price'].isnull().sum()\n",
    "assert n_nan_price == 0"
   ]
  },
  {
   "cell_type": "code",
   "execution_count": 272,
   "metadata": {},
   "outputs": [],
   "source": [
    "games_free = games_clean[games_clean['Price'] == 0]\n",
    "games_paid = games_clean[games_clean['Price'] != 0]"
   ]
  },
  {
   "cell_type": "code",
   "execution_count": 273,
   "metadata": {},
   "outputs": [],
   "source": [
    "num_games_free = games_free.shape[0]\n",
    "num_games_paid = games_paid.shape[0]"
   ]
  },
  {
   "cell_type": "code",
   "execution_count": 274,
   "metadata": {},
   "outputs": [],
   "source": [
    "assert num_games_free >= 1000\n",
    "assert num_games_paid >= 1000"
   ]
  },
  {
   "cell_type": "code",
   "execution_count": 275,
   "metadata": {},
   "outputs": [],
   "source": [
    "games_free['In-app Purchases'].replace(np.nan, 0, inplace=True)\n",
    "games_paid['In-app Purchases'].replace(np.nan, 0, inplace=True)"
   ]
  },
  {
   "cell_type": "code",
   "execution_count": 276,
   "metadata": {},
   "outputs": [],
   "source": [
    "games_free.index = range(1, games_free.shape[0]+1)\n",
    "games_paid.index = range(1, games_paid.shape[0]+1)"
   ]
  },
  {
   "cell_type": "code",
   "execution_count": 277,
   "metadata": {},
   "outputs": [],
   "source": [
    "def SetAge(x):\n",
    "    return int(x[:x.find('+')])"
   ]
  },
  {
   "cell_type": "code",
   "execution_count": 278,
   "metadata": {},
   "outputs": [
    {
     "name": "stderr",
     "output_type": "stream",
     "text": [
      "/opt/conda/lib/python3.6/site-packages/ipykernel_launcher.py:1: SettingWithCopyWarning: \n",
      "A value is trying to be set on a copy of a slice from a DataFrame.\n",
      "Try using .loc[row_indexer,col_indexer] = value instead\n",
      "\n",
      "See the caveats in the documentation: http://pandas.pydata.org/pandas-docs/stable/user_guide/indexing.html#returning-a-view-versus-a-copy\n",
      "  \"\"\"Entry point for launching an IPython kernel.\n",
      "/opt/conda/lib/python3.6/site-packages/ipykernel_launcher.py:2: SettingWithCopyWarning: \n",
      "A value is trying to be set on a copy of a slice from a DataFrame.\n",
      "Try using .loc[row_indexer,col_indexer] = value instead\n",
      "\n",
      "See the caveats in the documentation: http://pandas.pydata.org/pandas-docs/stable/user_guide/indexing.html#returning-a-view-versus-a-copy\n",
      "  \n"
     ]
    }
   ],
   "source": [
    "games_free['Age Rating'] = games_free['Age Rating'].apply(SetAge)\n",
    "games_paid['Age Rating'] = games_paid['Age Rating'].apply(SetAge)"
   ]
  },
  {
   "cell_type": "code",
   "execution_count": 280,
   "metadata": {},
   "outputs": [
    {
     "data": {
      "text/html": [
       "<div>\n",
       "<style scoped>\n",
       "    .dataframe tbody tr th:only-of-type {\n",
       "        vertical-align: middle;\n",
       "    }\n",
       "\n",
       "    .dataframe tbody tr th {\n",
       "        vertical-align: top;\n",
       "    }\n",
       "\n",
       "    .dataframe thead th {\n",
       "        text-align: right;\n",
       "    }\n",
       "</style>\n",
       "<table border=\"1\" class=\"dataframe\">\n",
       "  <thead>\n",
       "    <tr style=\"text-align: right;\">\n",
       "      <th></th>\n",
       "      <th>ID</th>\n",
       "      <th>Name</th>\n",
       "      <th>Average User Rating</th>\n",
       "      <th>User Rating Count</th>\n",
       "      <th>Price</th>\n",
       "      <th>In-app Purchases</th>\n",
       "      <th>Age Rating</th>\n",
       "      <th>Languages</th>\n",
       "      <th>Size</th>\n",
       "      <th>Genres</th>\n",
       "    </tr>\n",
       "  </thead>\n",
       "  <tbody>\n",
       "    <tr>\n",
       "      <th>1</th>\n",
       "      <td>284921427</td>\n",
       "      <td>Sudoku</td>\n",
       "      <td>4.0</td>\n",
       "      <td>3553.0</td>\n",
       "      <td>2.99</td>\n",
       "      <td>0</td>\n",
       "      <td>4</td>\n",
       "      <td>DA, NL, EN, FI, FR, DE, IT, JA, KO, NB, PL, PT...</td>\n",
       "      <td>15853568.0</td>\n",
       "      <td>Games, Strategy, Puzzle</td>\n",
       "    </tr>\n",
       "    <tr>\n",
       "      <th>2</th>\n",
       "      <td>284926400</td>\n",
       "      <td>Reversi</td>\n",
       "      <td>3.5</td>\n",
       "      <td>284.0</td>\n",
       "      <td>1.99</td>\n",
       "      <td>0</td>\n",
       "      <td>4</td>\n",
       "      <td>EN</td>\n",
       "      <td>12328960.0</td>\n",
       "      <td>Games, Strategy, Board</td>\n",
       "    </tr>\n",
       "    <tr>\n",
       "      <th>3</th>\n",
       "      <td>285831220</td>\n",
       "      <td>Senet Deluxe</td>\n",
       "      <td>3.5</td>\n",
       "      <td>28.0</td>\n",
       "      <td>2.99</td>\n",
       "      <td>0</td>\n",
       "      <td>4</td>\n",
       "      <td>DA, NL, EN, FR, DE, EL, IT, JA, KO, NO, PT, RU...</td>\n",
       "      <td>34689024.0</td>\n",
       "      <td>Games, Strategy, Board, Education</td>\n",
       "    </tr>\n",
       "    <tr>\n",
       "      <th>4</th>\n",
       "      <td>286363959</td>\n",
       "      <td>Colony</td>\n",
       "      <td>2.5</td>\n",
       "      <td>125.0</td>\n",
       "      <td>0.99</td>\n",
       "      <td>0</td>\n",
       "      <td>4</td>\n",
       "      <td>EN</td>\n",
       "      <td>64333824.0</td>\n",
       "      <td>Games, Strategy, Board</td>\n",
       "    </tr>\n",
       "    <tr>\n",
       "      <th>5</th>\n",
       "      <td>288689440</td>\n",
       "      <td>Marple</td>\n",
       "      <td>3.5</td>\n",
       "      <td>989.0</td>\n",
       "      <td>0.99</td>\n",
       "      <td>0</td>\n",
       "      <td>4</td>\n",
       "      <td>EN</td>\n",
       "      <td>3643392.0</td>\n",
       "      <td>Games, Puzzle, Strategy</td>\n",
       "    </tr>\n",
       "    <tr>\n",
       "      <th>...</th>\n",
       "      <td>...</td>\n",
       "      <td>...</td>\n",
       "      <td>...</td>\n",
       "      <td>...</td>\n",
       "      <td>...</td>\n",
       "      <td>...</td>\n",
       "      <td>...</td>\n",
       "      <td>...</td>\n",
       "      <td>...</td>\n",
       "      <td>...</td>\n",
       "    </tr>\n",
       "    <tr>\n",
       "      <th>1232</th>\n",
       "      <td>1459350707</td>\n",
       "      <td>Spellsword Cards: Origins</td>\n",
       "      <td>4.5</td>\n",
       "      <td>73.0</td>\n",
       "      <td>2.99</td>\n",
       "      <td>0</td>\n",
       "      <td>9</td>\n",
       "      <td>ZH, EN, ZH</td>\n",
       "      <td>188120064.0</td>\n",
       "      <td>Games, Card, Strategy, Entertainment</td>\n",
       "    </tr>\n",
       "    <tr>\n",
       "      <th>1233</th>\n",
       "      <td>1459639864</td>\n",
       "      <td>TheoTown</td>\n",
       "      <td>5.0</td>\n",
       "      <td>50.0</td>\n",
       "      <td>3.99</td>\n",
       "      <td>0</td>\n",
       "      <td>9</td>\n",
       "      <td>NaN</td>\n",
       "      <td>116820992.0</td>\n",
       "      <td>Games, Simulation, Entertainment, Strategy</td>\n",
       "    </tr>\n",
       "    <tr>\n",
       "      <th>1234</th>\n",
       "      <td>1462324486</td>\n",
       "      <td>\"Papa's Donuteria To Go!\"</td>\n",
       "      <td>5.0</td>\n",
       "      <td>80.0</td>\n",
       "      <td>1.99</td>\n",
       "      <td>4.99, 1.99, 0.99, 4.99, 1.99, 0.99</td>\n",
       "      <td>4</td>\n",
       "      <td>EN</td>\n",
       "      <td>90510336.0</td>\n",
       "      <td>Games, Strategy, Simulation</td>\n",
       "    </tr>\n",
       "    <tr>\n",
       "      <th>1235</th>\n",
       "      <td>1462722690</td>\n",
       "      <td>Great Conqueror: Rome</td>\n",
       "      <td>4.5</td>\n",
       "      <td>105.0</td>\n",
       "      <td>0.99</td>\n",
       "      <td>10.99, 1.99, 1.99, 1.99, 8.99, 19.99, 9.99, 7....</td>\n",
       "      <td>9</td>\n",
       "      <td>EN, JA, KO, ZH, ZH</td>\n",
       "      <td>219094016.0</td>\n",
       "      <td>Games, Strategy, Simulation</td>\n",
       "    </tr>\n",
       "    <tr>\n",
       "      <th>1236</th>\n",
       "      <td>1470639614</td>\n",
       "      <td>P1 Select</td>\n",
       "      <td>5.0</td>\n",
       "      <td>22.0</td>\n",
       "      <td>2.99</td>\n",
       "      <td>0</td>\n",
       "      <td>9</td>\n",
       "      <td>EN</td>\n",
       "      <td>4917248.0</td>\n",
       "      <td>Games, Strategy, Puzzle</td>\n",
       "    </tr>\n",
       "  </tbody>\n",
       "</table>\n",
       "<p>1236 rows × 10 columns</p>\n",
       "</div>"
      ],
      "text/plain": [
       "              ID                       Name  Average User Rating  \\\n",
       "1      284921427                     Sudoku                  4.0   \n",
       "2      284926400                    Reversi                  3.5   \n",
       "3      285831220               Senet Deluxe                  3.5   \n",
       "4      286363959                     Colony                  2.5   \n",
       "5      288689440                     Marple                  3.5   \n",
       "...          ...                        ...                  ...   \n",
       "1232  1459350707  Spellsword Cards: Origins                  4.5   \n",
       "1233  1459639864                   TheoTown                  5.0   \n",
       "1234  1462324486  \"Papa's Donuteria To Go!\"                  5.0   \n",
       "1235  1462722690      Great Conqueror: Rome                  4.5   \n",
       "1236  1470639614                  P1 Select                  5.0   \n",
       "\n",
       "      User Rating Count  Price  \\\n",
       "1                3553.0   2.99   \n",
       "2                 284.0   1.99   \n",
       "3                  28.0   2.99   \n",
       "4                 125.0   0.99   \n",
       "5                 989.0   0.99   \n",
       "...                 ...    ...   \n",
       "1232               73.0   2.99   \n",
       "1233               50.0   3.99   \n",
       "1234               80.0   1.99   \n",
       "1235              105.0   0.99   \n",
       "1236               22.0   2.99   \n",
       "\n",
       "                                       In-app Purchases  Age Rating  \\\n",
       "1                                                     0           4   \n",
       "2                                                     0           4   \n",
       "3                                                     0           4   \n",
       "4                                                     0           4   \n",
       "5                                                     0           4   \n",
       "...                                                 ...         ...   \n",
       "1232                                                  0           9   \n",
       "1233                                                  0           9   \n",
       "1234                 4.99, 1.99, 0.99, 4.99, 1.99, 0.99           4   \n",
       "1235  10.99, 1.99, 1.99, 1.99, 8.99, 19.99, 9.99, 7....           9   \n",
       "1236                                                  0           9   \n",
       "\n",
       "                                              Languages         Size  \\\n",
       "1     DA, NL, EN, FI, FR, DE, IT, JA, KO, NB, PL, PT...   15853568.0   \n",
       "2                                                    EN   12328960.0   \n",
       "3     DA, NL, EN, FR, DE, EL, IT, JA, KO, NO, PT, RU...   34689024.0   \n",
       "4                                                    EN   64333824.0   \n",
       "5                                                    EN    3643392.0   \n",
       "...                                                 ...          ...   \n",
       "1232                                         ZH, EN, ZH  188120064.0   \n",
       "1233                                                NaN  116820992.0   \n",
       "1234                                                 EN   90510336.0   \n",
       "1235                                 EN, JA, KO, ZH, ZH  219094016.0   \n",
       "1236                                                 EN    4917248.0   \n",
       "\n",
       "                                          Genres  \n",
       "1                        Games, Strategy, Puzzle  \n",
       "2                         Games, Strategy, Board  \n",
       "3              Games, Strategy, Board, Education  \n",
       "4                         Games, Strategy, Board  \n",
       "5                        Games, Puzzle, Strategy  \n",
       "...                                          ...  \n",
       "1232        Games, Card, Strategy, Entertainment  \n",
       "1233  Games, Simulation, Entertainment, Strategy  \n",
       "1234                 Games, Strategy, Simulation  \n",
       "1235                 Games, Strategy, Simulation  \n",
       "1236                     Games, Strategy, Puzzle  \n",
       "\n",
       "[1236 rows x 10 columns]"
      ]
     },
     "execution_count": 280,
     "metadata": {},
     "output_type": "execute_result"
    }
   ],
   "source": []
  },
  {
   "cell_type": "markdown",
   "metadata": {},
   "source": [
    "# Data Analysis & Results"
   ]
  },
  {
   "cell_type": "markdown",
   "metadata": {},
   "source": [
    "Include cells that describe the steps in your data analysis."
   ]
  },
  {
   "cell_type": "code",
   "execution_count": 5,
   "metadata": {},
   "outputs": [],
   "source": [
    "## YOUR CODE HERE\n",
    "## FEEL FREE TO ADD MULTIPLE CELLS PER SECTION"
   ]
  },
  {
   "cell_type": "markdown",
   "metadata": {},
   "source": [
    "# Ethics & Privacy"
   ]
  },
  {
   "cell_type": "markdown",
   "metadata": {},
   "source": [
    "*Fill in your ethics & privacy discussion here*"
   ]
  },
  {
   "cell_type": "markdown",
   "metadata": {},
   "source": [
    "# Conclusion & Discussion"
   ]
  },
  {
   "cell_type": "markdown",
   "metadata": {},
   "source": [
    "*Fill in your discussion information here*"
   ]
  }
 ],
 "metadata": {
  "kernelspec": {
   "display_name": "Python 3",
   "language": "python",
   "name": "python3"
  },
  "language_info": {
   "codemirror_mode": {
    "name": "ipython",
    "version": 3
   },
   "file_extension": ".py",
   "mimetype": "text/x-python",
   "name": "python",
   "nbconvert_exporter": "python",
   "pygments_lexer": "ipython3",
   "version": "3.6.7"
  }
 },
 "nbformat": 4,
 "nbformat_minor": 2
}
